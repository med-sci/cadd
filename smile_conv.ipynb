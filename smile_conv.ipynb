{
 "cells": [
  {
   "cell_type": "code",
   "execution_count": 189,
   "metadata": {},
   "outputs": [],
   "source": [
    "import pandas as pd\n",
    "import numpy as np\n",
    "from rdkit import Chem\n",
    "from rdkit.Chem import Draw\n",
    "from sklearn.model_selection import train_test_split\n",
    "from sklearn.preprocessing import StandardScaler"
   ]
  },
  {
   "cell_type": "code",
   "execution_count": 2,
   "metadata": {},
   "outputs": [],
   "source": [
    "data = pd.read_csv('data.csv')"
   ]
  },
  {
   "cell_type": "code",
   "execution_count": 3,
   "metadata": {},
   "outputs": [
    {
     "data": {
      "text/html": [
       "<div>\n",
       "<style scoped>\n",
       "    .dataframe tbody tr th:only-of-type {\n",
       "        vertical-align: middle;\n",
       "    }\n",
       "\n",
       "    .dataframe tbody tr th {\n",
       "        vertical-align: top;\n",
       "    }\n",
       "\n",
       "    .dataframe thead th {\n",
       "        text-align: right;\n",
       "    }\n",
       "</style>\n",
       "<table border=\"1\" class=\"dataframe\">\n",
       "  <thead>\n",
       "    <tr style=\"text-align: right;\">\n",
       "      <th></th>\n",
       "      <th>Unnamed: 0</th>\n",
       "      <th>canonical_smiles</th>\n",
       "      <th>molecule_chembl_id</th>\n",
       "      <th>standard_value</th>\n",
       "      <th>bioactivity_class</th>\n",
       "    </tr>\n",
       "  </thead>\n",
       "  <tbody>\n",
       "    <tr>\n",
       "      <th>0</th>\n",
       "      <td>0</td>\n",
       "      <td>O=C1Nc2ccc(S(=O)(=O)Nc3ccc(O)c(Cl)c3)c3cccc1c23</td>\n",
       "      <td>CHEMBL3326305</td>\n",
       "      <td>42300.0</td>\n",
       "      <td>inactive</td>\n",
       "    </tr>\n",
       "    <tr>\n",
       "      <th>1</th>\n",
       "      <td>1</td>\n",
       "      <td>O=C1Sc2c(S(=O)(=O)Nc3ccc(O)cc3)cc(S(=O)(=O)Nc3...</td>\n",
       "      <td>CHEMBL3326315</td>\n",
       "      <td>14000.0</td>\n",
       "      <td>inactive</td>\n",
       "    </tr>\n",
       "    <tr>\n",
       "      <th>2</th>\n",
       "      <td>2</td>\n",
       "      <td>O=S(=O)(Nc1cc(Cl)c(O)c(Cl)c1)c1ccc2ccccc2c1</td>\n",
       "      <td>CHEMBL3356478</td>\n",
       "      <td>100000.0</td>\n",
       "      <td>inactive</td>\n",
       "    </tr>\n",
       "    <tr>\n",
       "      <th>3</th>\n",
       "      <td>3</td>\n",
       "      <td>O=S(=O)(Nc1ccc(O)c(Cl)c1)c1ccc(F)cc1</td>\n",
       "      <td>CHEMBL3314616</td>\n",
       "      <td>100000.0</td>\n",
       "      <td>inactive</td>\n",
       "    </tr>\n",
       "    <tr>\n",
       "      <th>4</th>\n",
       "      <td>4</td>\n",
       "      <td>Cc1cc2occ(CN(C)CCN(C)Cc3cn(-c4cccc(C(F)(F)F)c4...</td>\n",
       "      <td>CHEMBL3326318</td>\n",
       "      <td>20300.0</td>\n",
       "      <td>inactive</td>\n",
       "    </tr>\n",
       "    <tr>\n",
       "      <th>5</th>\n",
       "      <td>5</td>\n",
       "      <td>O=C1Nc2ccc(S(=O)(=O)Nc3ccc(O)c(Cl)c3)c3cccc1c23</td>\n",
       "      <td>CHEMBL3326305</td>\n",
       "      <td>45700.0</td>\n",
       "      <td>inactive</td>\n",
       "    </tr>\n",
       "    <tr>\n",
       "      <th>6</th>\n",
       "      <td>6</td>\n",
       "      <td>O=C1Sc2c(S(=O)(=O)Nc3ccc(O)cc3)cc(S(=O)(=O)Nc3...</td>\n",
       "      <td>CHEMBL3326315</td>\n",
       "      <td>25300.0</td>\n",
       "      <td>inactive</td>\n",
       "    </tr>\n",
       "    <tr>\n",
       "      <th>7</th>\n",
       "      <td>8</td>\n",
       "      <td>Cc1cc2occ(CN3CCN(Cc4cn(-c5cccc(C(F)(F)F)c5)c5c...</td>\n",
       "      <td>CHEMBL3741761</td>\n",
       "      <td>10000.0</td>\n",
       "      <td>inactive</td>\n",
       "    </tr>\n",
       "    <tr>\n",
       "      <th>8</th>\n",
       "      <td>9</td>\n",
       "      <td>Cc1ccc2occ(CN(C)CCN(C)Cc3cn(-c4cccc(C(F)(F)F)c...</td>\n",
       "      <td>CHEMBL3739952</td>\n",
       "      <td>30000.0</td>\n",
       "      <td>inactive</td>\n",
       "    </tr>\n",
       "    <tr>\n",
       "      <th>9</th>\n",
       "      <td>10</td>\n",
       "      <td>Cc1ccc2occ(CN3CCN(Cc4cn(-c5cccc(C(F)(F)F)c5)c5...</td>\n",
       "      <td>CHEMBL3741215</td>\n",
       "      <td>30000.0</td>\n",
       "      <td>inactive</td>\n",
       "    </tr>\n",
       "    <tr>\n",
       "      <th>10</th>\n",
       "      <td>11</td>\n",
       "      <td>Cc1cc2occ(C(=O)N(C)CCN(C)C(=O)c3cn(-c4cccc(C(F...</td>\n",
       "      <td>CHEMBL3742137</td>\n",
       "      <td>20000.0</td>\n",
       "      <td>inactive</td>\n",
       "    </tr>\n",
       "    <tr>\n",
       "      <th>11</th>\n",
       "      <td>12</td>\n",
       "      <td>Nc1cccc(-n2cc(C(=O)N3CCN(C(=O)c4coc5ccccc5c4=O...</td>\n",
       "      <td>CHEMBL3740948</td>\n",
       "      <td>10000.0</td>\n",
       "      <td>inactive</td>\n",
       "    </tr>\n",
       "    <tr>\n",
       "      <th>12</th>\n",
       "      <td>13</td>\n",
       "      <td>CN(CCN(C)C(=O)c1cn(S(=O)(=O)c2ccccc2)c2ccccc12...</td>\n",
       "      <td>CHEMBL3741720</td>\n",
       "      <td>60000.0</td>\n",
       "      <td>inactive</td>\n",
       "    </tr>\n",
       "    <tr>\n",
       "      <th>13</th>\n",
       "      <td>14</td>\n",
       "      <td>O=C(c1coc2ccccc2c1=O)N1CCN(C(=O)c2cn(S(=O)(=O)...</td>\n",
       "      <td>CHEMBL3740702</td>\n",
       "      <td>15000.0</td>\n",
       "      <td>inactive</td>\n",
       "    </tr>\n",
       "    <tr>\n",
       "      <th>14</th>\n",
       "      <td>15</td>\n",
       "      <td>CN(CCN(C)C(=O)c1cn(S(=O)(=O)c2cccc([N+](=O)[O-...</td>\n",
       "      <td>CHEMBL3741275</td>\n",
       "      <td>20000.0</td>\n",
       "      <td>inactive</td>\n",
       "    </tr>\n",
       "    <tr>\n",
       "      <th>15</th>\n",
       "      <td>16</td>\n",
       "      <td>O=C(c1coc2ccccc2c1=O)N1CCN(C(=O)c2cn(S(=O)(=O)...</td>\n",
       "      <td>CHEMBL3741940</td>\n",
       "      <td>20000.0</td>\n",
       "      <td>inactive</td>\n",
       "    </tr>\n",
       "    <tr>\n",
       "      <th>16</th>\n",
       "      <td>17</td>\n",
       "      <td>CN(CCN(C)C(=O)c1cn(S(=O)(=O)c2cccc(N)c2)c2cccc...</td>\n",
       "      <td>CHEMBL3740051</td>\n",
       "      <td>25000.0</td>\n",
       "      <td>inactive</td>\n",
       "    </tr>\n",
       "    <tr>\n",
       "      <th>17</th>\n",
       "      <td>18</td>\n",
       "      <td>Nc1cccc(S(=O)(=O)n2cc(C(=O)N3CCN(C(=O)c4coc5cc...</td>\n",
       "      <td>CHEMBL3740334</td>\n",
       "      <td>20000.0</td>\n",
       "      <td>inactive</td>\n",
       "    </tr>\n",
       "    <tr>\n",
       "      <th>18</th>\n",
       "      <td>19</td>\n",
       "      <td>Nc1cccc(-n2cc(C(=O)N3CCN(C(=O)c4coc5ccccc5c4=O...</td>\n",
       "      <td>CHEMBL3741278</td>\n",
       "      <td>40000.0</td>\n",
       "      <td>inactive</td>\n",
       "    </tr>\n",
       "    <tr>\n",
       "      <th>19</th>\n",
       "      <td>20</td>\n",
       "      <td>O=C(c1coc2ccccc2c1=O)N1CCN(C(=O)c2cn(-c3cccc([...</td>\n",
       "      <td>CHEMBL3740080</td>\n",
       "      <td>15000.0</td>\n",
       "      <td>inactive</td>\n",
       "    </tr>\n",
       "    <tr>\n",
       "      <th>20</th>\n",
       "      <td>21</td>\n",
       "      <td>O=C(c1coc2ccccc2c1=O)N1CCN(Cc2cn(-c3cccc(C(F)(...</td>\n",
       "      <td>CHEMBL3741883</td>\n",
       "      <td>10000.0</td>\n",
       "      <td>inactive</td>\n",
       "    </tr>\n",
       "    <tr>\n",
       "      <th>21</th>\n",
       "      <td>22</td>\n",
       "      <td>O=C(c1ccc2ccccc2c1)N1CCN(Cc2cn(-c3cccc(C(F)(F)...</td>\n",
       "      <td>CHEMBL3741926</td>\n",
       "      <td>20000.0</td>\n",
       "      <td>inactive</td>\n",
       "    </tr>\n",
       "    <tr>\n",
       "      <th>22</th>\n",
       "      <td>23</td>\n",
       "      <td>O=C(c1ccccc1)N1CCN(Cc2cn(-c3cccc(C(F)(F)F)c3)c...</td>\n",
       "      <td>CHEMBL3741027</td>\n",
       "      <td>15000.0</td>\n",
       "      <td>inactive</td>\n",
       "    </tr>\n",
       "    <tr>\n",
       "      <th>23</th>\n",
       "      <td>24</td>\n",
       "      <td>O=C(NCCCNC(=O)c1cn(S(=O)(=O)c2ccccc2)c2ccccc12...</td>\n",
       "      <td>CHEMBL3740564</td>\n",
       "      <td>20000.0</td>\n",
       "      <td>inactive</td>\n",
       "    </tr>\n",
       "    <tr>\n",
       "      <th>24</th>\n",
       "      <td>26</td>\n",
       "      <td>Cc1cc2occ(CN3CCN(Cc4cn(-c5cccc(C(F)(F)F)c5)c5c...</td>\n",
       "      <td>CHEMBL3741761</td>\n",
       "      <td>15000.0</td>\n",
       "      <td>inactive</td>\n",
       "    </tr>\n",
       "    <tr>\n",
       "      <th>25</th>\n",
       "      <td>27</td>\n",
       "      <td>Cc1ccc2occ(CN(C)CCN(C)Cc3cn(-c4cccc(C(F)(F)F)c...</td>\n",
       "      <td>CHEMBL3739952</td>\n",
       "      <td>10000.0</td>\n",
       "      <td>inactive</td>\n",
       "    </tr>\n",
       "    <tr>\n",
       "      <th>26</th>\n",
       "      <td>28</td>\n",
       "      <td>Cc1ccc2occ(CN3CCN(Cc4cn(-c5cccc(C(F)(F)F)c5)c5...</td>\n",
       "      <td>CHEMBL3741215</td>\n",
       "      <td>15000.0</td>\n",
       "      <td>inactive</td>\n",
       "    </tr>\n",
       "    <tr>\n",
       "      <th>27</th>\n",
       "      <td>29</td>\n",
       "      <td>Cc1cc2occ(C(=O)N(C)CCN(C)C(=O)c3cn(-c4cccc(C(F...</td>\n",
       "      <td>CHEMBL3742137</td>\n",
       "      <td>60000.0</td>\n",
       "      <td>inactive</td>\n",
       "    </tr>\n",
       "    <tr>\n",
       "      <th>28</th>\n",
       "      <td>30</td>\n",
       "      <td>Nc1cccc(-n2cc(C(=O)N3CCN(C(=O)c4coc5ccccc5c4=O...</td>\n",
       "      <td>CHEMBL3740948</td>\n",
       "      <td>20000.0</td>\n",
       "      <td>inactive</td>\n",
       "    </tr>\n",
       "    <tr>\n",
       "      <th>29</th>\n",
       "      <td>31</td>\n",
       "      <td>CN(CCN(C)C(=O)c1cn(S(=O)(=O)c2ccccc2)c2ccccc12...</td>\n",
       "      <td>CHEMBL3741720</td>\n",
       "      <td>60000.0</td>\n",
       "      <td>inactive</td>\n",
       "    </tr>\n",
       "    <tr>\n",
       "      <th>30</th>\n",
       "      <td>32</td>\n",
       "      <td>O=C(c1coc2ccccc2c1=O)N1CCN(C(=O)c2cn(S(=O)(=O)...</td>\n",
       "      <td>CHEMBL3740702</td>\n",
       "      <td>40000.0</td>\n",
       "      <td>inactive</td>\n",
       "    </tr>\n",
       "    <tr>\n",
       "      <th>31</th>\n",
       "      <td>33</td>\n",
       "      <td>CN(CCN(C)C(=O)c1cn(S(=O)(=O)c2cccc([N+](=O)[O-...</td>\n",
       "      <td>CHEMBL3741275</td>\n",
       "      <td>40000.0</td>\n",
       "      <td>inactive</td>\n",
       "    </tr>\n",
       "    <tr>\n",
       "      <th>32</th>\n",
       "      <td>34</td>\n",
       "      <td>O=C(c1coc2ccccc2c1=O)N1CCN(C(=O)c2cn(S(=O)(=O)...</td>\n",
       "      <td>CHEMBL3741940</td>\n",
       "      <td>40000.0</td>\n",
       "      <td>inactive</td>\n",
       "    </tr>\n",
       "    <tr>\n",
       "      <th>33</th>\n",
       "      <td>35</td>\n",
       "      <td>CN(CCN(C)C(=O)c1cn(S(=O)(=O)c2cccc(N)c2)c2cccc...</td>\n",
       "      <td>CHEMBL3740051</td>\n",
       "      <td>20000.0</td>\n",
       "      <td>inactive</td>\n",
       "    </tr>\n",
       "    <tr>\n",
       "      <th>34</th>\n",
       "      <td>36</td>\n",
       "      <td>Nc1cccc(S(=O)(=O)n2cc(C(=O)N3CCN(C(=O)c4coc5cc...</td>\n",
       "      <td>CHEMBL3740334</td>\n",
       "      <td>40000.0</td>\n",
       "      <td>inactive</td>\n",
       "    </tr>\n",
       "    <tr>\n",
       "      <th>35</th>\n",
       "      <td>37</td>\n",
       "      <td>Nc1cccc(-n2cc(C(=O)N3CCN(C(=O)c4coc5ccccc5c4=O...</td>\n",
       "      <td>CHEMBL3741278</td>\n",
       "      <td>40000.0</td>\n",
       "      <td>inactive</td>\n",
       "    </tr>\n",
       "    <tr>\n",
       "      <th>36</th>\n",
       "      <td>38</td>\n",
       "      <td>O=C(c1coc2ccccc2c1=O)N1CCN(C(=O)c2cn(-c3cccc([...</td>\n",
       "      <td>CHEMBL3740080</td>\n",
       "      <td>20000.0</td>\n",
       "      <td>inactive</td>\n",
       "    </tr>\n",
       "    <tr>\n",
       "      <th>37</th>\n",
       "      <td>39</td>\n",
       "      <td>O=C(c1coc2ccccc2c1=O)N1CCN(Cc2cn(-c3cccc(C(F)(...</td>\n",
       "      <td>CHEMBL3741883</td>\n",
       "      <td>20000.0</td>\n",
       "      <td>inactive</td>\n",
       "    </tr>\n",
       "    <tr>\n",
       "      <th>38</th>\n",
       "      <td>40</td>\n",
       "      <td>O=C(c1ccc2ccccc2c1)N1CCN(Cc2cn(-c3cccc(C(F)(F)...</td>\n",
       "      <td>CHEMBL3741926</td>\n",
       "      <td>40000.0</td>\n",
       "      <td>inactive</td>\n",
       "    </tr>\n",
       "    <tr>\n",
       "      <th>39</th>\n",
       "      <td>41</td>\n",
       "      <td>O=C(c1ccccc1)N1CCN(Cc2cn(-c3cccc(C(F)(F)F)c3)c...</td>\n",
       "      <td>CHEMBL3741027</td>\n",
       "      <td>20000.0</td>\n",
       "      <td>inactive</td>\n",
       "    </tr>\n",
       "    <tr>\n",
       "      <th>40</th>\n",
       "      <td>42</td>\n",
       "      <td>O=C(NCCCNC(=O)c1cn(S(=O)(=O)c2ccccc2)c2ccccc12...</td>\n",
       "      <td>CHEMBL3740564</td>\n",
       "      <td>40000.0</td>\n",
       "      <td>inactive</td>\n",
       "    </tr>\n",
       "    <tr>\n",
       "      <th>41</th>\n",
       "      <td>43</td>\n",
       "      <td>CC[C@H](C)[C@@H](NC(=O)[C@@H](CCC(=O)O)NC(=O)[...</td>\n",
       "      <td>CHEMBL4299667</td>\n",
       "      <td>11900.0</td>\n",
       "      <td>inactive</td>\n",
       "    </tr>\n",
       "    <tr>\n",
       "      <th>42</th>\n",
       "      <td>44</td>\n",
       "      <td>CC[C@H](C)[C@H](NC(=O)[C@H](CCC(N)=O)NC(=O)[C@...</td>\n",
       "      <td>CHEMBL3805016</td>\n",
       "      <td>32600.0</td>\n",
       "      <td>inactive</td>\n",
       "    </tr>\n",
       "  </tbody>\n",
       "</table>\n",
       "</div>"
      ],
      "text/plain": [
       "    Unnamed: 0                                   canonical_smiles  \\\n",
       "0            0    O=C1Nc2ccc(S(=O)(=O)Nc3ccc(O)c(Cl)c3)c3cccc1c23   \n",
       "1            1  O=C1Sc2c(S(=O)(=O)Nc3ccc(O)cc3)cc(S(=O)(=O)Nc3...   \n",
       "2            2        O=S(=O)(Nc1cc(Cl)c(O)c(Cl)c1)c1ccc2ccccc2c1   \n",
       "3            3               O=S(=O)(Nc1ccc(O)c(Cl)c1)c1ccc(F)cc1   \n",
       "4            4  Cc1cc2occ(CN(C)CCN(C)Cc3cn(-c4cccc(C(F)(F)F)c4...   \n",
       "5            5    O=C1Nc2ccc(S(=O)(=O)Nc3ccc(O)c(Cl)c3)c3cccc1c23   \n",
       "6            6  O=C1Sc2c(S(=O)(=O)Nc3ccc(O)cc3)cc(S(=O)(=O)Nc3...   \n",
       "7            8  Cc1cc2occ(CN3CCN(Cc4cn(-c5cccc(C(F)(F)F)c5)c5c...   \n",
       "8            9  Cc1ccc2occ(CN(C)CCN(C)Cc3cn(-c4cccc(C(F)(F)F)c...   \n",
       "9           10  Cc1ccc2occ(CN3CCN(Cc4cn(-c5cccc(C(F)(F)F)c5)c5...   \n",
       "10          11  Cc1cc2occ(C(=O)N(C)CCN(C)C(=O)c3cn(-c4cccc(C(F...   \n",
       "11          12  Nc1cccc(-n2cc(C(=O)N3CCN(C(=O)c4coc5ccccc5c4=O...   \n",
       "12          13  CN(CCN(C)C(=O)c1cn(S(=O)(=O)c2ccccc2)c2ccccc12...   \n",
       "13          14  O=C(c1coc2ccccc2c1=O)N1CCN(C(=O)c2cn(S(=O)(=O)...   \n",
       "14          15  CN(CCN(C)C(=O)c1cn(S(=O)(=O)c2cccc([N+](=O)[O-...   \n",
       "15          16  O=C(c1coc2ccccc2c1=O)N1CCN(C(=O)c2cn(S(=O)(=O)...   \n",
       "16          17  CN(CCN(C)C(=O)c1cn(S(=O)(=O)c2cccc(N)c2)c2cccc...   \n",
       "17          18  Nc1cccc(S(=O)(=O)n2cc(C(=O)N3CCN(C(=O)c4coc5cc...   \n",
       "18          19  Nc1cccc(-n2cc(C(=O)N3CCN(C(=O)c4coc5ccccc5c4=O...   \n",
       "19          20  O=C(c1coc2ccccc2c1=O)N1CCN(C(=O)c2cn(-c3cccc([...   \n",
       "20          21  O=C(c1coc2ccccc2c1=O)N1CCN(Cc2cn(-c3cccc(C(F)(...   \n",
       "21          22  O=C(c1ccc2ccccc2c1)N1CCN(Cc2cn(-c3cccc(C(F)(F)...   \n",
       "22          23  O=C(c1ccccc1)N1CCN(Cc2cn(-c3cccc(C(F)(F)F)c3)c...   \n",
       "23          24  O=C(NCCCNC(=O)c1cn(S(=O)(=O)c2ccccc2)c2ccccc12...   \n",
       "24          26  Cc1cc2occ(CN3CCN(Cc4cn(-c5cccc(C(F)(F)F)c5)c5c...   \n",
       "25          27  Cc1ccc2occ(CN(C)CCN(C)Cc3cn(-c4cccc(C(F)(F)F)c...   \n",
       "26          28  Cc1ccc2occ(CN3CCN(Cc4cn(-c5cccc(C(F)(F)F)c5)c5...   \n",
       "27          29  Cc1cc2occ(C(=O)N(C)CCN(C)C(=O)c3cn(-c4cccc(C(F...   \n",
       "28          30  Nc1cccc(-n2cc(C(=O)N3CCN(C(=O)c4coc5ccccc5c4=O...   \n",
       "29          31  CN(CCN(C)C(=O)c1cn(S(=O)(=O)c2ccccc2)c2ccccc12...   \n",
       "30          32  O=C(c1coc2ccccc2c1=O)N1CCN(C(=O)c2cn(S(=O)(=O)...   \n",
       "31          33  CN(CCN(C)C(=O)c1cn(S(=O)(=O)c2cccc([N+](=O)[O-...   \n",
       "32          34  O=C(c1coc2ccccc2c1=O)N1CCN(C(=O)c2cn(S(=O)(=O)...   \n",
       "33          35  CN(CCN(C)C(=O)c1cn(S(=O)(=O)c2cccc(N)c2)c2cccc...   \n",
       "34          36  Nc1cccc(S(=O)(=O)n2cc(C(=O)N3CCN(C(=O)c4coc5cc...   \n",
       "35          37  Nc1cccc(-n2cc(C(=O)N3CCN(C(=O)c4coc5ccccc5c4=O...   \n",
       "36          38  O=C(c1coc2ccccc2c1=O)N1CCN(C(=O)c2cn(-c3cccc([...   \n",
       "37          39  O=C(c1coc2ccccc2c1=O)N1CCN(Cc2cn(-c3cccc(C(F)(...   \n",
       "38          40  O=C(c1ccc2ccccc2c1)N1CCN(Cc2cn(-c3cccc(C(F)(F)...   \n",
       "39          41  O=C(c1ccccc1)N1CCN(Cc2cn(-c3cccc(C(F)(F)F)c3)c...   \n",
       "40          42  O=C(NCCCNC(=O)c1cn(S(=O)(=O)c2ccccc2)c2ccccc12...   \n",
       "41          43  CC[C@H](C)[C@@H](NC(=O)[C@@H](CCC(=O)O)NC(=O)[...   \n",
       "42          44  CC[C@H](C)[C@H](NC(=O)[C@H](CCC(N)=O)NC(=O)[C@...   \n",
       "\n",
       "   molecule_chembl_id  standard_value bioactivity_class  \n",
       "0       CHEMBL3326305         42300.0          inactive  \n",
       "1       CHEMBL3326315         14000.0          inactive  \n",
       "2       CHEMBL3356478        100000.0          inactive  \n",
       "3       CHEMBL3314616        100000.0          inactive  \n",
       "4       CHEMBL3326318         20300.0          inactive  \n",
       "5       CHEMBL3326305         45700.0          inactive  \n",
       "6       CHEMBL3326315         25300.0          inactive  \n",
       "7       CHEMBL3741761         10000.0          inactive  \n",
       "8       CHEMBL3739952         30000.0          inactive  \n",
       "9       CHEMBL3741215         30000.0          inactive  \n",
       "10      CHEMBL3742137         20000.0          inactive  \n",
       "11      CHEMBL3740948         10000.0          inactive  \n",
       "12      CHEMBL3741720         60000.0          inactive  \n",
       "13      CHEMBL3740702         15000.0          inactive  \n",
       "14      CHEMBL3741275         20000.0          inactive  \n",
       "15      CHEMBL3741940         20000.0          inactive  \n",
       "16      CHEMBL3740051         25000.0          inactive  \n",
       "17      CHEMBL3740334         20000.0          inactive  \n",
       "18      CHEMBL3741278         40000.0          inactive  \n",
       "19      CHEMBL3740080         15000.0          inactive  \n",
       "20      CHEMBL3741883         10000.0          inactive  \n",
       "21      CHEMBL3741926         20000.0          inactive  \n",
       "22      CHEMBL3741027         15000.0          inactive  \n",
       "23      CHEMBL3740564         20000.0          inactive  \n",
       "24      CHEMBL3741761         15000.0          inactive  \n",
       "25      CHEMBL3739952         10000.0          inactive  \n",
       "26      CHEMBL3741215         15000.0          inactive  \n",
       "27      CHEMBL3742137         60000.0          inactive  \n",
       "28      CHEMBL3740948         20000.0          inactive  \n",
       "29      CHEMBL3741720         60000.0          inactive  \n",
       "30      CHEMBL3740702         40000.0          inactive  \n",
       "31      CHEMBL3741275         40000.0          inactive  \n",
       "32      CHEMBL3741940         40000.0          inactive  \n",
       "33      CHEMBL3740051         20000.0          inactive  \n",
       "34      CHEMBL3740334         40000.0          inactive  \n",
       "35      CHEMBL3741278         40000.0          inactive  \n",
       "36      CHEMBL3740080         20000.0          inactive  \n",
       "37      CHEMBL3741883         20000.0          inactive  \n",
       "38      CHEMBL3741926         40000.0          inactive  \n",
       "39      CHEMBL3741027         20000.0          inactive  \n",
       "40      CHEMBL3740564         40000.0          inactive  \n",
       "41      CHEMBL4299667         11900.0          inactive  \n",
       "42      CHEMBL3805016         32600.0          inactive  "
      ]
     },
     "execution_count": 3,
     "metadata": {},
     "output_type": "execute_result"
    }
   ],
   "source": [
    "data.iloc[:43]"
   ]
  },
  {
   "cell_type": "code",
   "execution_count": 4,
   "metadata": {},
   "outputs": [
    {
     "data": {
      "text/plain": [
       "68"
      ]
     },
     "execution_count": 4,
     "metadata": {},
     "output_type": "execute_result"
    }
   ],
   "source": [
    "smiles = list(data['canonical_smiles'])\n",
    "len(smiles[44])"
   ]
  },
  {
   "cell_type": "code",
   "execution_count": 5,
   "metadata": {},
   "outputs": [
    {
     "data": {
      "image/png": "[encoded data removed]",
      "text/plain": [
       "<PIL.PngImagePlugin.PngImageFile image mode=RGB size=300x300 at 0x18D79F85FD0>"
      ]
     },
     "execution_count": 5,
     "metadata": {},
     "output_type": "execute_result"
    }
   ],
   "source": [
    "mol = Chem.MolFromSmiles(smiles[44])\n",
    "Draw.MolToImage(mol)"
   ]
  },
  {
   "cell_type": "code",
   "execution_count": 6,
   "metadata": {},
   "outputs": [],
   "source": [
    "alphabet = []\n",
    "for smile in smiles:\n",
    "    for i, s in enumerate(smile):\n",
    "        if smile[i] not in alphabet:\n",
    "            alphabet.append(s)"
   ]
  },
  {
   "cell_type": "code",
   "execution_count": 7,
   "metadata": {},
   "outputs": [],
   "source": [
    "def smile_to_array(smile, alphabet):\n",
    "    hight = len(alphabet)\n",
    "    width = len(smile)\n",
    "    array = np.zeros((hight, width))\n",
    "    for i in range(hight):\n",
    "        for j in range(width):\n",
    "            if smile[j] == alphabet[i]:\n",
    "                array[i, j] = 1\n",
    "    return array"
   ]
  },
  {
   "cell_type": "code",
   "execution_count": 8,
   "metadata": {},
   "outputs": [],
   "source": [
    "def array_to_smile(array, alphabet):\n",
    "    smile = ''\n",
    "    for i in range(array.shape[1]):\n",
    "        for j in range(array.shape[0]):\n",
    "            if array[j, i] == 1:\n",
    "                s = alphabet[j]\n",
    "                smile = smile+s\n",
    "    return smile"
   ]
  },
  {
   "cell_type": "code",
   "execution_count": 9,
   "metadata": {},
   "outputs": [],
   "source": [
    "all_arrs = []\n",
    "max_width = 0\n",
    "for s in smiles:\n",
    "    array = smile_to_array(s, alphabet)\n",
    "    all_arrs.append(array)\n",
    "    if array.shape[1] > max_width:\n",
    "        max_width = array.shape[1]"
   ]
  },
  {
   "cell_type": "code",
   "execution_count": 10,
   "metadata": {},
   "outputs": [],
   "source": [
    "def pad_data(data, max_width):\n",
    "    for i, arr in enumerate(data):\n",
    "        to_padd = max_width - arr.shape[1]\n",
    "        data[i] = np.pad(arr, ((0, 0), (0, to_padd)), 'constant')\n",
    "    return data"
   ]
  },
  {
   "cell_type": "code",
   "execution_count": 11,
   "metadata": {},
   "outputs": [],
   "source": [
    "new_data = pad_data(all_arrs, max_width)"
   ]
  },
  {
   "cell_type": "code",
   "execution_count": 12,
   "metadata": {},
   "outputs": [],
   "source": [
    "final_arr = np.array(new_data)"
   ]
  },
  {
   "cell_type": "code",
   "execution_count": 13,
   "metadata": {},
   "outputs": [],
   "source": [
    "X  = final_arr.reshape(-1, 32, 649, 1)"
   ]
  },
  {
   "cell_type": "code",
   "execution_count": 14,
   "metadata": {},
   "outputs": [],
   "source": [
    "y = list(data['bioactivity_class'])"
   ]
  },
  {
   "cell_type": "code",
   "execution_count": 15,
   "metadata": {},
   "outputs": [
    {
     "data": {
      "text/plain": [
       "array(['inactive', 'active'], dtype=object)"
      ]
     },
     "execution_count": 15,
     "metadata": {},
     "output_type": "execute_result"
    }
   ],
   "source": [
    "data.bioactivity_class.unique()"
   ]
  },
  {
   "cell_type": "code",
   "execution_count": 16,
   "metadata": {},
   "outputs": [],
   "source": [
    "for i, cls in enumerate(y):\n",
    "    if y[i] == 'inactive':\n",
    "        y[i] = 0\n",
    "    else:\n",
    "        y[i] = 1"
   ]
  },
  {
   "cell_type": "code",
   "execution_count": 17,
   "metadata": {},
   "outputs": [],
   "source": [
    "y = np.array(y)\n",
    "y = y.reshape(-1, 1)"
   ]
  },
  {
   "cell_type": "code",
   "execution_count": 18,
   "metadata": {},
   "outputs": [],
   "source": [
    "X_train, X_test, y_train, y_test = train_test_split(X, y, test_size = 0.33)"
   ]
  },
  {
   "cell_type": "code",
   "execution_count": 20,
   "metadata": {},
   "outputs": [],
   "source": [
    "import tensorflow as tf\n",
    "from tensorflow.keras.layers import Conv2D, Input, MaxPool2D, Activation, GlobalMaxPooling2D, Dense, Flatten\n",
    "from tensorflow.keras.models import Model\n",
    "physical_devices = tf.config.list_physical_devices('GPU')\n",
    "physical_devices\n",
    "tf.config.experimental.set_memory_growth(physical_devices[0], True)"
   ]
  },
  {
   "cell_type": "code",
   "execution_count": 167,
   "metadata": {},
   "outputs": [],
   "source": [
    "x_input = Input((32, 649, 1))\n",
    "#first convolution\n",
    "x = Conv2D(64, (32, 6), strides = (1, 1), padding = 'valid')(x_input)\n",
    "x = Activation('relu')(x)\n",
    "x = MaxPool2D((1,2))(x)\n",
    "#second convolution\n",
    "x = Conv2D(64, (1, 6), strides = (1, 1), padding = 'valid')(x)\n",
    "x = Activation('relu')(x)\n",
    "x = MaxPool2D((1,2))(x)\n",
    "#Global pooling\n",
    "x_after_pool = GlobalMaxPooling2D()(x)\n",
    "#Dense\n",
    "x = Flatten()(x_after_pool)\n",
    "x = Dense(64, activation = 'relu')(x)\n",
    "x = Dense(1, activation = 'sigmoid')(x)\n",
    "model = Model(x_input, outputs = x)"
   ]
  },
  {
   "cell_type": "code",
   "execution_count": 168,
   "metadata": {},
   "outputs": [
    {
     "name": "stdout",
     "output_type": "stream",
     "text": [
      "Model: \"model_8\"\n",
      "_________________________________________________________________\n",
      "Layer (type)                 Output Shape              Param #   \n",
      "=================================================================\n",
      "input_9 (InputLayer)         [(None, 32, 649, 1)]      0         \n",
      "_________________________________________________________________\n",
      "conv2d_16 (Conv2D)           (None, 1, 644, 64)        12352     \n",
      "_________________________________________________________________\n",
      "activation_16 (Activation)   (None, 1, 644, 64)        0         \n",
      "_________________________________________________________________\n",
      "max_pooling2d_16 (MaxPooling (None, 1, 322, 64)        0         \n",
      "_________________________________________________________________\n",
      "conv2d_17 (Conv2D)           (None, 1, 317, 64)        24640     \n",
      "_________________________________________________________________\n",
      "activation_17 (Activation)   (None, 1, 317, 64)        0         \n",
      "_________________________________________________________________\n",
      "max_pooling2d_17 (MaxPooling (None, 1, 158, 64)        0         \n",
      "_________________________________________________________________\n",
      "global_max_pooling2d_8 (Glob (None, 64)                0         \n",
      "_________________________________________________________________\n",
      "flatten_6 (Flatten)          (None, 64)                0         \n",
      "_________________________________________________________________\n",
      "dense_12 (Dense)             (None, 64)                4160      \n",
      "_________________________________________________________________\n",
      "dense_13 (Dense)             (None, 1)                 65        \n",
      "=================================================================\n",
      "Total params: 41,217\n",
      "Trainable params: 41,217\n",
      "Non-trainable params: 0\n",
      "_________________________________________________________________\n"
     ]
    }
   ],
   "source": [
    "model.summary()"
   ]
  },
  {
   "cell_type": "code",
   "execution_count": 169,
   "metadata": {},
   "outputs": [],
   "source": [
    "model.compile(\n",
    "    optimizer='adam', \n",
    "    loss='binary_crossentropy', \n",
    "    metrics=['accuracy'])"
   ]
  },
  {
   "cell_type": "code",
   "execution_count": 170,
   "metadata": {},
   "outputs": [
    {
     "name": "stdout",
     "output_type": "stream",
     "text": [
      "Epoch 1/10\n",
      "8/8 [==============================] - 0s 9ms/step - loss: 0.6640 - accuracy: 0.7443\n",
      "Epoch 2/10\n",
      "8/8 [==============================] - 0s 9ms/step - loss: 0.5556 - accuracy: 0.7305\n",
      "Epoch 3/10\n",
      "8/8 [==============================] - 0s 8ms/step - loss: 0.4886 - accuracy: 0.7313\n",
      "Epoch 4/10\n",
      "8/8 [==============================] - 0s 9ms/step - loss: 0.4922 - accuracy: 0.6927\n",
      "Epoch 5/10\n",
      "8/8 [==============================] - 0s 8ms/step - loss: 0.4087 - accuracy: 0.7397\n",
      "Epoch 6/10\n",
      "8/8 [==============================] - 0s 8ms/step - loss: 0.3599 - accuracy: 0.9124\n",
      "Epoch 7/10\n",
      "8/8 [==============================] - 0s 8ms/step - loss: 0.3476 - accuracy: 0.8972\n",
      "Epoch 8/10\n",
      "8/8 [==============================] - 0s 8ms/step - loss: 0.2568 - accuracy: 0.9289\n",
      "Epoch 9/10\n",
      "8/8 [==============================] - 0s 8ms/step - loss: 0.2538 - accuracy: 0.9166\n",
      "Epoch 10/10\n",
      "8/8 [==============================] - 0s 8ms/step - loss: 0.2180 - accuracy: 0.9239\n"
     ]
    }
   ],
   "source": [
    "r = model.fit(X_train, y_train, batch_size=32, epochs=10)"
   ]
  },
  {
   "cell_type": "code",
   "execution_count": 171,
   "metadata": {},
   "outputs": [
    {
     "name": "stdout",
     "output_type": "stream",
     "text": [
      "4/4 [==============================] - 0s 4ms/step - loss: 0.1978 - accuracy: 0.9339\n"
     ]
    },
    {
     "data": {
      "text/plain": [
       "[0.1978195756673813, 0.93388432264328]"
      ]
     },
     "execution_count": 171,
     "metadata": {},
     "output_type": "execute_result"
    }
   ],
   "source": [
    "model.evaluate(X_test, y_test)"
   ]
  },
  {
   "cell_type": "code",
   "execution_count": 172,
   "metadata": {},
   "outputs": [],
   "source": [
    "weights = model.get_weights()"
   ]
  },
  {
   "cell_type": "code",
   "execution_count": 175,
   "metadata": {},
   "outputs": [],
   "source": [
    "x_input = Input((32, 649, 1))\n",
    "#first convolution\n",
    "x = Conv2D(64, (32, 6), strides = (1, 1), padding = 'valid')(x_input)\n",
    "x = Activation('relu')(x)\n",
    "x = MaxPool2D((1,2))(x)\n",
    "#second convolution\n",
    "x = Conv2D(64, (1, 6), strides = (1, 1), padding = 'valid')(x)\n",
    "x = Activation('relu')(x)\n",
    "x = MaxPool2D((1,2))(x)\n",
    "#Global pooling\n",
    "x = GlobalMaxPooling2D()(x)\n",
    "#Dense\n",
    "model2 = Model(x_input, outputs = x)"
   ]
  },
  {
   "cell_type": "code",
   "execution_count": 176,
   "metadata": {},
   "outputs": [],
   "source": [
    "model2.set_weights(weights[:4])"
   ]
  },
  {
   "cell_type": "code",
   "execution_count": 177,
   "metadata": {},
   "outputs": [],
   "source": [
    "prd = model2.predict(X_train)"
   ]
  },
  {
   "cell_type": "code",
   "execution_count": 190,
   "metadata": {},
   "outputs": [],
   "source": [
    "sc = StandardScaler()"
   ]
  },
  {
   "cell_type": "code",
   "execution_count": 194,
   "metadata": {},
   "outputs": [],
   "source": [
    "prd1 = sc.fit_transform(prd)"
   ]
  },
  {
   "cell_type": "code",
   "execution_count": 213,
   "metadata": {},
   "outputs": [],
   "source": [
    "filters_nums = []\n",
    "for i in prd1:\n",
    "    for index, j in enumerate(i):\n",
    "        if j>=2.9:\n",
    "            filters_nums.append(index)"
   ]
  },
  {
   "cell_type": "code",
   "execution_count": 222,
   "metadata": {},
   "outputs": [],
   "source": [
    "filters_nums.sort() #8"
   ]
  },
  {
   "cell_type": "code",
   "execution_count": 220,
   "metadata": {},
   "outputs": [],
   "source": [
    "filters, biases = model.layers[1].get_weights()"
   ]
  },
  {
   "cell_type": "code",
   "execution_count": 227,
   "metadata": {},
   "outputs": [],
   "source": [
    "filtr = filters[:,:,:,8]"
   ]
  },
  {
   "cell_type": "code",
   "execution_count": 231,
   "metadata": {},
   "outputs": [],
   "source": [
    "filtr = filtr.reshape(32, 6)"
   ]
  },
  {
   "cell_type": "code",
   "execution_count": 248,
   "metadata": {},
   "outputs": [
    {
     "data": {
      "text/plain": [
       "array([[-0.0092, -0.0048, -0.0111, -0.0211,  0.002 , -0.0112],\n",
       "       [-0.0273, -0.0077,  0.0008,  0.0155, -0.0289, -0.033 ],\n",
       "       [ 0.0093,  0.0264,  0.0365,  0.0136,  0.0016, -0.0232],\n",
       "       [-0.0059, -0.0354, -0.03  , -0.0192, -0.014 ,  0.0016],\n",
       "       [-0.0474, -0.0254, -0.0371, -0.0054,  0.0292,  0.0207],\n",
       "       [ 0.0038, -0.0186,  0.0165,  0.0058,  0.0645,  0.0217],\n",
       "       [-0.0074,  0.0362,  0.0632, -0.0355, -0.029 ,  0.0231],\n",
       "       [-0.0436,  0.0367,  0.0248, -0.0009, -0.0505,  0.043 ],\n",
       "       [ 0.0278, -0.0338,  0.0338,  0.0199,  0.0028, -0.0036],\n",
       "       [ 0.0204, -0.047 , -0.0498,  0.046 , -0.0115,  0.0292],\n",
       "       [-0.0212,  0.0193,  0.0288,  0.0201,  0.047 , -0.0317],\n",
       "       [-0.0136, -0.0415, -0.0193,  0.0247, -0.0203,  0.0212],\n",
       "       [ 0.0129, -0.0363, -0.0034,  0.0178,  0.0365,  0.0159],\n",
       "       [ 0.0007, -0.0174, -0.0219,  0.0443, -0.0073,  0.0078],\n",
       "       [ 0.0148, -0.0135, -0.0203, -0.0164, -0.0213, -0.0048],\n",
       "       [ 0.02  ,  0.0101, -0.0466,  0.0356,  0.0029,  0.0032],\n",
       "       [ 0.0351,  0.0481,  0.0493, -0.0253,  0.0231, -0.0198],\n",
       "       [ 0.0003,  0.021 ,  0.0065,  0.0021, -0.0141,  0.0082],\n",
       "       [-0.0242,  0.012 ,  0.0346,  0.0163,  0.028 ,  0.0478],\n",
       "       [ 0.008 , -0.0394,  0.0186,  0.0021, -0.0284,  0.0176],\n",
       "       [ 0.0154, -0.0196, -0.    , -0.0164,  0.0181,  0.0145],\n",
       "       [-0.0337,  0.0636, -0.0262,  0.0396, -0.0318, -0.0403],\n",
       "       [ 0.0421,  0.0128,  0.0176, -0.0077, -0.0044, -0.0084],\n",
       "       [ 0.0111, -0.0255,  0.0276, -0.0481, -0.0418, -0.0252],\n",
       "       [ 0.0258,  0.0019, -0.0202,  0.0366, -0.0026, -0.0103],\n",
       "       [-0.0118, -0.0041,  0.0034,  0.0207,  0.0174,  0.0183],\n",
       "       [-0.0142,  0.0125,  0.0366,  0.0118,  0.0506,  0.0036],\n",
       "       [ 0.0156,  0.0143, -0.0106, -0.0235, -0.0027, -0.0163],\n",
       "       [-0.0247,  0.0437,  0.0011, -0.0114,  0.0033,  0.0108],\n",
       "       [ 0.0048, -0.0061,  0.0098,  0.0409, -0.002 , -0.0034],\n",
       "       [ 0.0147,  0.0029,  0.0019, -0.0126,  0.0404,  0.0181],\n",
       "       [ 0.0248,  0.0191,  0.0199, -0.0098, -0.0114,  0.0108]],\n",
       "      dtype=float32)"
      ]
     },
     "execution_count": 248,
     "metadata": {},
     "output_type": "execute_result"
    }
   ],
   "source": [
    "filtr.round(4)"
   ]
  },
  {
   "cell_type": "code",
   "execution_count": 240,
   "metadata": {},
   "outputs": [],
   "source": [
    "l = []\n",
    "for i, f in enumerate(filtr):\n",
    "    l.append((i, max(f)))"
   ]
  },
  {
   "cell_type": "code",
   "execution_count": 242,
   "metadata": {},
   "outputs": [],
   "source": [
    "l.sort()"
   ]
  },
  {
   "cell_type": "code",
   "execution_count": 243,
   "metadata": {},
   "outputs": [
    {
     "data": {
      "text/plain": [
       "[(0, 0.0019957228),\n",
       " (1, 0.015452803),\n",
       " (2, 0.03646312),\n",
       " (3, 0.0016219228),\n",
       " (4, 0.029171757),\n",
       " (5, 0.06449321),\n",
       " (6, 0.063150935),\n",
       " (7, 0.042968486),\n",
       " (8, 0.033809833),\n",
       " (9, 0.04604862),\n",
       " (10, 0.04695129),\n",
       " (11, 0.024676064),\n",
       " (12, 0.036495302),\n",
       " (13, 0.04428102),\n",
       " (14, 0.014817274),\n",
       " (15, 0.03561191),\n",
       " (16, 0.049252752),\n",
       " (17, 0.021030499),\n",
       " (18, 0.047797292),\n",
       " (19, 0.018563969),\n",
       " (20, 0.018115502),\n",
       " (21, 0.06363835),\n",
       " (22, 0.042124994),\n",
       " (23, 0.02759881),\n",
       " (24, 0.036649484),\n",
       " (25, 0.020684255),\n",
       " (26, 0.050601754),\n",
       " (27, 0.015563299),\n",
       " (28, 0.043719698),\n",
       " (29, 0.04092794),\n",
       " (30, 0.040426664),\n",
       " (31, 0.024839224)]"
      ]
     },
     "execution_count": 243,
     "metadata": {},
     "output_type": "execute_result"
    }
   ],
   "source": [
    "l"
   ]
  },
  {
   "cell_type": "code",
   "execution_count": 260,
   "metadata": {},
   "outputs": [
    {
     "data": {
      "text/plain": [
       "-0.17734209075570107"
      ]
     },
     "execution_count": 260,
     "metadata": {},
     "output_type": "execute_result"
    }
   ],
   "source": [
    "sum(np.convolve(final_arr[0][0], filtr[0], 'valid'))"
   ]
  },
  {
   "cell_type": "code",
   "execution_count": 259,
   "metadata": {},
   "outputs": [
    {
     "data": {
      "text/plain": [
       "array([1., 0., 0., 0., 0., 0., 0., 0., 0., 0., 0., 0., 0., 0., 1., 0., 0.,\n",
       "       0., 1., 0., 0., 0., 0., 0., 0., 0., 0., 1., 0., 0., 0., 0., 0., 0.,\n",
       "       0., 0., 0., 0., 0., 0., 0., 0., 0., 0., 0., 0., 0., 0., 0., 0., 0.,\n",
       "       0., 0., 0., 0., 0., 0., 0., 0., 0., 0., 0., 0., 0., 0., 0., 0., 0.,\n",
       "       0., 0., 0., 0., 0., 0., 0., 0., 0., 0., 0., 0., 0., 0., 0., 0., 0.,\n",
       "       0., 0., 0., 0., 0., 0., 0., 0., 0., 0., 0., 0., 0., 0., 0., 0., 0.,\n",
       "       0., 0., 0., 0., 0., 0., 0., 0., 0., 0., 0., 0., 0., 0., 0., 0., 0.,\n",
       "       0., 0., 0., 0., 0., 0., 0., 0., 0., 0., 0., 0., 0., 0., 0., 0., 0.,\n",
       "       0., 0., 0., 0., 0., 0., 0., 0., 0., 0., 0., 0., 0., 0., 0., 0., 0.,\n",
       "       0., 0., 0., 0., 0., 0., 0., 0., 0., 0., 0., 0., 0., 0., 0., 0., 0.,\n",
       "       0., 0., 0., 0., 0., 0., 0., 0., 0., 0., 0., 0., 0., 0., 0., 0., 0.,\n",
       "       0., 0., 0., 0., 0., 0., 0., 0., 0., 0., 0., 0., 0., 0., 0., 0., 0.,\n",
       "       0., 0., 0., 0., 0., 0., 0., 0., 0., 0., 0., 0., 0., 0., 0., 0., 0.,\n",
       "       0., 0., 0., 0., 0., 0., 0., 0., 0., 0., 0., 0., 0., 0., 0., 0., 0.,\n",
       "       0., 0., 0., 0., 0., 0., 0., 0., 0., 0., 0., 0., 0., 0., 0., 0., 0.,\n",
       "       0., 0., 0., 0., 0., 0., 0., 0., 0., 0., 0., 0., 0., 0., 0., 0., 0.,\n",
       "       0., 0., 0., 0., 0., 0., 0., 0., 0., 0., 0., 0., 0., 0., 0., 0., 0.,\n",
       "       0., 0., 0., 0., 0., 0., 0., 0., 0., 0., 0., 0., 0., 0., 0., 0., 0.,\n",
       "       0., 0., 0., 0., 0., 0., 0., 0., 0., 0., 0., 0., 0., 0., 0., 0., 0.,\n",
       "       0., 0., 0., 0., 0., 0., 0., 0., 0., 0., 0., 0., 0., 0., 0., 0., 0.,\n",
       "       0., 0., 0., 0., 0., 0., 0., 0., 0., 0., 0., 0., 0., 0., 0., 0., 0.,\n",
       "       0., 0., 0., 0., 0., 0., 0., 0., 0., 0., 0., 0., 0., 0., 0., 0., 0.,\n",
       "       0., 0., 0., 0., 0., 0., 0., 0., 0., 0., 0., 0., 0., 0., 0., 0., 0.,\n",
       "       0., 0., 0., 0., 0., 0., 0., 0., 0., 0., 0., 0., 0., 0., 0., 0., 0.,\n",
       "       0., 0., 0., 0., 0., 0., 0., 0., 0., 0., 0., 0., 0., 0., 0., 0., 0.,\n",
       "       0., 0., 0., 0., 0., 0., 0., 0., 0., 0., 0., 0., 0., 0., 0., 0., 0.,\n",
       "       0., 0., 0., 0., 0., 0., 0., 0., 0., 0., 0., 0., 0., 0., 0., 0., 0.,\n",
       "       0., 0., 0., 0., 0., 0., 0., 0., 0., 0., 0., 0., 0., 0., 0., 0., 0.,\n",
       "       0., 0., 0., 0., 0., 0., 0., 0., 0., 0., 0., 0., 0., 0., 0., 0., 0.,\n",
       "       0., 0., 0., 0., 0., 0., 0., 0., 0., 0., 0., 0., 0., 0., 0., 0., 0.,\n",
       "       0., 0., 0., 0., 0., 0., 0., 0., 0., 0., 0., 0., 0., 0., 0., 0., 0.,\n",
       "       0., 0., 0., 0., 0., 0., 0., 0., 0., 0., 0., 0., 0., 0., 0., 0., 0.,\n",
       "       0., 0., 0., 0., 0., 0., 0., 0., 0., 0., 0., 0., 0., 0., 0., 0., 0.,\n",
       "       0., 0., 0., 0., 0., 0., 0., 0., 0., 0., 0., 0., 0., 0., 0., 0., 0.,\n",
       "       0., 0., 0., 0., 0., 0., 0., 0., 0., 0., 0., 0., 0., 0., 0., 0., 0.,\n",
       "       0., 0., 0., 0., 0., 0., 0., 0., 0., 0., 0., 0., 0., 0., 0., 0., 0.,\n",
       "       0., 0., 0., 0., 0., 0., 0., 0., 0., 0., 0., 0., 0., 0., 0., 0., 0.,\n",
       "       0., 0., 0., 0., 0., 0., 0., 0., 0., 0., 0., 0., 0., 0., 0., 0., 0.,\n",
       "       0., 0., 0.])"
      ]
     },
     "execution_count": 259,
     "metadata": {},
     "output_type": "execute_result"
    }
   ],
   "source": [
    "final_arr[0][0]"
   ]
  },
  {
   "cell_type": "code",
   "execution_count": 261,
   "metadata": {},
   "outputs": [
    {
     "data": {
      "text/plain": [
       "array([-0.00918147, -0.00481042, -0.01105472, -0.02112496,  0.00199572,\n",
       "       -0.01120363], dtype=float32)"
      ]
     },
     "execution_count": 261,
     "metadata": {},
     "output_type": "execute_result"
    }
   ],
   "source": [
    "filtr[0]"
   ]
  },
  {
   "cell_type": "code",
   "execution_count": 257,
   "metadata": {},
   "outputs": [
    {
     "data": {
      "text/plain": [
       "(649,)"
      ]
     },
     "execution_count": 257,
     "metadata": {},
     "output_type": "execute_result"
    }
   ],
   "source": [
    "final_arr[0][0].shape"
   ]
  },
  {
   "cell_type": "code",
   "execution_count": null,
   "metadata": {},
   "outputs": [],
   "source": []
  }
 ],
 "metadata": {
  "kernelspec": {
   "display_name": "Python 3",
   "language": "python",
   "name": "python3"
  },
  "language_info": {
   "codemirror_mode": {
    "name": "ipython",
    "version": 3
   },
   "file_extension": ".py",
   "mimetype": "text/x-python",
   "name": "python",
   "nbconvert_exporter": "python",
   "pygments_lexer": "ipython3",
   "version": "3.8.3"
  }
 },
 "nbformat": 4,
 "nbformat_minor": 4
}
