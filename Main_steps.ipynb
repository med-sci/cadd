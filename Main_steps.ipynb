{
 "cells": [
  {
   "cell_type": "code",
   "execution_count": 1,
   "metadata": {},
   "outputs": [],
   "source": [
    "from cadd.preprocess import DataLoader, calc_pIC50\n",
    "import pandas as pd"
   ]
  },
  {
   "cell_type": "code",
   "execution_count": 3,
   "metadata": {},
   "outputs": [],
   "source": [
    "dl = DataLoader(target = 'CHEMBL1825', bioactivity_type='IC50', assay_type = 'B', target_organism = 'Homo sapiens')"
   ]
  },
  {
   "cell_type": "code",
   "execution_count": 4,
   "metadata": {},
   "outputs": [
    {
     "data": {
      "application/vnd.jupyter.widget-view+json": {
       "model_id": "f7615b224a4644a1b0eb3470f6bc0a7e",
       "version_major": 2,
       "version_minor": 0
      },
      "text/plain": [
       "HBox(children=(HTML(value=''), FloatProgress(value=0.0, max=461.0), HTML(value='')))"
      ]
     },
     "metadata": {},
     "output_type": "display_data"
    },
    {
     "name": "stdout",
     "output_type": "stream",
     "text": [
      "\n"
     ]
    }
   ],
   "source": [
    "data = dl.get_data()"
   ]
  },
  {
   "cell_type": "code",
   "execution_count": 21,
   "metadata": {},
   "outputs": [],
   "source": [
    "pic50 = calc_pIC50(data)"
   ]
  },
  {
   "cell_type": "code",
   "execution_count": 22,
   "metadata": {},
   "outputs": [
    {
     "data": {
      "text/html": [
       "<div>\n",
       "<style scoped>\n",
       "    .dataframe tbody tr th:only-of-type {\n",
       "        vertical-align: middle;\n",
       "    }\n",
       "\n",
       "    .dataframe tbody tr th {\n",
       "        vertical-align: top;\n",
       "    }\n",
       "\n",
       "    .dataframe thead th {\n",
       "        text-align: right;\n",
       "    }\n",
       "</style>\n",
       "<table border=\"1\" class=\"dataframe\">\n",
       "  <thead>\n",
       "    <tr style=\"text-align: right;\">\n",
       "      <th></th>\n",
       "      <th>Unnamed: 0</th>\n",
       "      <th>molecule_chembl_id</th>\n",
       "      <th>smiles</th>\n",
       "      <th>pIC50</th>\n",
       "      <th>standard_units</th>\n",
       "      <th>standard_value</th>\n",
       "      <th>type</th>\n",
       "      <th>units</th>\n",
       "      <th>value</th>\n",
       "    </tr>\n",
       "  </thead>\n",
       "  <tbody>\n",
       "    <tr>\n",
       "      <th>0</th>\n",
       "      <td>17</td>\n",
       "      <td>CHEMBL3326305</td>\n",
       "      <td>O=C1Nc2ccc(S(=O)(=O)Nc3ccc(O)c(Cl)c3)c3cccc1c23</td>\n",
       "      <td>4.374</td>\n",
       "      <td>nM</td>\n",
       "      <td>42300.0</td>\n",
       "      <td>IC50</td>\n",
       "      <td>uM</td>\n",
       "      <td>42.3</td>\n",
       "    </tr>\n",
       "    <tr>\n",
       "      <th>1</th>\n",
       "      <td>18</td>\n",
       "      <td>CHEMBL3326315</td>\n",
       "      <td>O=C1Sc2c(S(=O)(=O)Nc3ccc(O)cc3)cc(S(=O)(=O)Nc3...</td>\n",
       "      <td>4.854</td>\n",
       "      <td>nM</td>\n",
       "      <td>14000.0</td>\n",
       "      <td>IC50</td>\n",
       "      <td>uM</td>\n",
       "      <td>14.0</td>\n",
       "    </tr>\n",
       "    <tr>\n",
       "      <th>2</th>\n",
       "      <td>19</td>\n",
       "      <td>CHEMBL3356478</td>\n",
       "      <td>O=S(=O)(Nc1cc(Cl)c(O)c(Cl)c1)c1ccc2ccccc2c1</td>\n",
       "      <td>4.000</td>\n",
       "      <td>nM</td>\n",
       "      <td>100000.0</td>\n",
       "      <td>IC50</td>\n",
       "      <td>uM</td>\n",
       "      <td>100.0</td>\n",
       "    </tr>\n",
       "    <tr>\n",
       "      <th>3</th>\n",
       "      <td>20</td>\n",
       "      <td>CHEMBL3314616</td>\n",
       "      <td>O=S(=O)(Nc1ccc(O)c(Cl)c1)c1ccc(F)cc1</td>\n",
       "      <td>4.000</td>\n",
       "      <td>nM</td>\n",
       "      <td>100000.0</td>\n",
       "      <td>IC50</td>\n",
       "      <td>uM</td>\n",
       "      <td>100.0</td>\n",
       "    </tr>\n",
       "    <tr>\n",
       "      <th>4</th>\n",
       "      <td>22</td>\n",
       "      <td>CHEMBL3326318</td>\n",
       "      <td>Cc1cc2occ(CN(C)CCN(C)Cc3cn(-c4cccc(C(F)(F)F)c4...</td>\n",
       "      <td>4.693</td>\n",
       "      <td>nM</td>\n",
       "      <td>20300.0</td>\n",
       "      <td>IC50</td>\n",
       "      <td>uM</td>\n",
       "      <td>20.3</td>\n",
       "    </tr>\n",
       "  </tbody>\n",
       "</table>\n",
       "</div>"
      ],
      "text/plain": [
       "   Unnamed: 0 molecule_chembl_id  \\\n",
       "0          17      CHEMBL3326305   \n",
       "1          18      CHEMBL3326315   \n",
       "2          19      CHEMBL3356478   \n",
       "3          20      CHEMBL3314616   \n",
       "4          22      CHEMBL3326318   \n",
       "\n",
       "                                              smiles  pIC50 standard_units  \\\n",
       "0    O=C1Nc2ccc(S(=O)(=O)Nc3ccc(O)c(Cl)c3)c3cccc1c23  4.374             nM   \n",
       "1  O=C1Sc2c(S(=O)(=O)Nc3ccc(O)cc3)cc(S(=O)(=O)Nc3...  4.854             nM   \n",
       "2        O=S(=O)(Nc1cc(Cl)c(O)c(Cl)c1)c1ccc2ccccc2c1  4.000             nM   \n",
       "3               O=S(=O)(Nc1ccc(O)c(Cl)c1)c1ccc(F)cc1  4.000             nM   \n",
       "4  Cc1cc2occ(CN(C)CCN(C)Cc3cn(-c4cccc(C(F)(F)F)c4...  4.693             nM   \n",
       "\n",
       "   standard_value  type units  value  \n",
       "0         42300.0  IC50    uM   42.3  \n",
       "1         14000.0  IC50    uM   14.0  \n",
       "2        100000.0  IC50    uM  100.0  \n",
       "3        100000.0  IC50    uM  100.0  \n",
       "4         20300.0  IC50    uM   20.3  "
      ]
     },
     "execution_count": 22,
     "metadata": {},
     "output_type": "execute_result"
    }
   ],
   "source": [
    "data.insert(loc = 3, column='pIC50', value = pic50)\n",
    "data.head()"
   ]
  },
  {
   "cell_type": "code",
   "execution_count": null,
   "metadata": {},
   "outputs": [],
   "source": []
  }
 ],
 "metadata": {
  "kernelspec": {
   "display_name": "Python 3",
   "language": "python",
   "name": "python3"
  },
  "language_info": {
   "codemirror_mode": {
    "name": "ipython",
    "version": 3
   },
   "file_extension": ".py",
   "mimetype": "text/x-python",
   "name": "python",
   "nbconvert_exporter": "python",
   "pygments_lexer": "ipython3",
   "version": "3.8.5"
  }
 },
 "nbformat": 4,
 "nbformat_minor": 4
}
